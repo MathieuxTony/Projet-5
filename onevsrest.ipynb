{
 "cells": [
  {
   "cell_type": "markdown",
   "id": "11526817",
   "metadata": {},
   "source": [
    "# Classification avec \"bag of words\""
   ]
  },
  {
   "cell_type": "code",
   "execution_count": 50,
   "id": "3ea37bc0",
   "metadata": {},
   "outputs": [],
   "source": [
    "import pandas as pd\n",
    "import numpy as np\n",
    "from sklearn.model_selection import train_test_split\n",
    "from sklearn.preprocessing import MultiLabelBinarizer"
   ]
  },
  {
   "cell_type": "code",
   "execution_count": 51,
   "id": "ec4f7f30",
   "metadata": {},
   "outputs": [],
   "source": [
    "data = pd.read_csv('data.csv')"
   ]
  },
  {
   "cell_type": "code",
   "execution_count": 52,
   "id": "41dd8d6a",
   "metadata": {},
   "outputs": [
    {
     "data": {
      "text/plain": [
       "Index(['Title', 'Body', 'Tags', 'title_bow_lem', 'body_bow_lem',\n",
       "       'title_bow_stem', 'body_bow_stem'],\n",
       "      dtype='object')"
      ]
     },
     "execution_count": 52,
     "metadata": {},
     "output_type": "execute_result"
    }
   ],
   "source": [
    "data.columns"
   ]
  },
  {
   "cell_type": "code",
   "execution_count": 53,
   "id": "6f50e186",
   "metadata": {},
   "outputs": [],
   "source": [
    "for c in ['Tags', 'title_bow_lem', 'body_bow_lem', 'title_bow_stem', 'body_bow_stem']:\n",
    "      data[c] = data[c].transform(lambda x: eval(x))"
   ]
  },
  {
   "cell_type": "code",
   "execution_count": 54,
   "id": "298ab4b0",
   "metadata": {},
   "outputs": [
    {
     "data": {
      "text/html": [
       "<div>\n",
       "<style scoped>\n",
       "    .dataframe tbody tr th:only-of-type {\n",
       "        vertical-align: middle;\n",
       "    }\n",
       "\n",
       "    .dataframe tbody tr th {\n",
       "        vertical-align: top;\n",
       "    }\n",
       "\n",
       "    .dataframe thead th {\n",
       "        text-align: right;\n",
       "    }\n",
       "</style>\n",
       "<table border=\"1\" class=\"dataframe\">\n",
       "  <thead>\n",
       "    <tr style=\"text-align: right;\">\n",
       "      <th></th>\n",
       "      <th>Title</th>\n",
       "      <th>Body</th>\n",
       "      <th>Tags</th>\n",
       "      <th>title_bow_lem</th>\n",
       "      <th>body_bow_lem</th>\n",
       "      <th>title_bow_stem</th>\n",
       "      <th>body_bow_stem</th>\n",
       "    </tr>\n",
       "  </thead>\n",
       "  <tbody>\n",
       "    <tr>\n",
       "      <th>0</th>\n",
       "      <td>spring mvc   angularjs   file upload   org apa...</td>\n",
       "      <td>i have a java spring mvc web application as se...</td>\n",
       "      <td>[java, spring, file, mvc]</td>\n",
       "      <td>[spring, mvc, angularjs, file, org, apache, fi...</td>\n",
       "      <td>[java, spring, mvc, application, server, angul...</td>\n",
       "      <td>[spring, mvc, angularj, file, org, apach, file...</td>\n",
       "      <td>[java, spring, mvc, applic, server, angularj, ...</td>\n",
       "    </tr>\n",
       "    <tr>\n",
       "      <th>1</th>\n",
       "      <td>what are some examples of design pattern imple...</td>\n",
       "      <td>i m a moderately skilled programmer using java...</td>\n",
       "      <td>[design, javascript]</td>\n",
       "      <td>[design, javascript]</td>\n",
       "      <td>[programmer, javascript, guru, dom, manipulati...</td>\n",
       "      <td>[design, javascript]</td>\n",
       "      <td>[programm, javascript, guru, dom, manipul, des...</td>\n",
       "    </tr>\n",
       "    <tr>\n",
       "      <th>2</th>\n",
       "      <td>what s the best way to get to know linux or bs...</td>\n",
       "      <td>i d like to gain better knowledge of operating...</td>\n",
       "      <td>[linux]</td>\n",
       "      <td>[linux, bsd]</td>\n",
       "      <td>[knowledge, operating, system, management, mem...</td>\n",
       "      <td>[linux, bsd]</td>\n",
       "      <td>[knowledg, oper, system, manag, memori, manag,...</td>\n",
       "    </tr>\n",
       "    <tr>\n",
       "      <th>3</th>\n",
       "      <td>is there a performance difference between i   ...</td>\n",
       "      <td>is there a performance difference between  and...</td>\n",
       "      <td>[c, performance]</td>\n",
       "      <td>[performance, difference, c]</td>\n",
       "      <td>[performance, difference, value]</td>\n",
       "      <td>[perform, differ, c]</td>\n",
       "      <td>[perform, differ, valu]</td>\n",
       "    </tr>\n",
       "    <tr>\n",
       "      <th>4</th>\n",
       "      <td>is there a performance difference between i   ...</td>\n",
       "      <td>we have the question is there a performance di...</td>\n",
       "      <td>[performance, cplusplus]</td>\n",
       "      <td>[performance, difference, cplusplus]</td>\n",
       "      <td>[performance, difference, c, answer, cplusplus]</td>\n",
       "      <td>[perform, differ, cplusplus]</td>\n",
       "      <td>[perform, differ, c, answer, cplusplus]</td>\n",
       "    </tr>\n",
       "    <tr>\n",
       "      <th>...</th>\n",
       "      <td>...</td>\n",
       "      <td>...</td>\n",
       "      <td>...</td>\n",
       "      <td>...</td>\n",
       "      <td>...</td>\n",
       "      <td>...</td>\n",
       "      <td>...</td>\n",
       "    </tr>\n",
       "    <tr>\n",
       "      <th>24723</th>\n",
       "      <td>how does keras 1d convolution layer work with ...</td>\n",
       "      <td>i am currently developing a text classificatio...</td>\n",
       "      <td>[python]</td>\n",
       "      <td>[convolution, layer, work, word, classificatio...</td>\n",
       "      <td>[text, classification, tool, validation, accur...</td>\n",
       "      <td>[convolut, layer, work, word, classif, problem...</td>\n",
       "      <td>[text, classif, tool, valid, accuraci, head, c...</td>\n",
       "    </tr>\n",
       "    <tr>\n",
       "      <th>24724</th>\n",
       "      <td>clean architecture design pattern</td>\n",
       "      <td>i have some question about this pattern  the...</td>\n",
       "      <td>[java, design]</td>\n",
       "      <td>[architecture, design, pattern]</td>\n",
       "      <td>[pattern, database, layer, work, reality, enti...</td>\n",
       "      <td>[architectur, design, pattern]</td>\n",
       "      <td>[pattern, databas, layer, work, realiti, entit...</td>\n",
       "    </tr>\n",
       "    <tr>\n",
       "      <th>24725</th>\n",
       "      <td>how to do nd distance and nearest neighbor cal...</td>\n",
       "      <td>this question is intended to be a canonical du...</td>\n",
       "      <td>[arrays, python]</td>\n",
       "      <td>[distance, neighbor]</td>\n",
       "      <td>[duplicate, target, distance, shape, point, po...</td>\n",
       "      <td>[distanc, neighbor]</td>\n",
       "      <td>[duplic, target, distanc, shape, point, point,...</td>\n",
       "    </tr>\n",
       "    <tr>\n",
       "      <th>24726</th>\n",
       "      <td>android studio emulator is not working on wind...</td>\n",
       "      <td>i have windows 11 on my system  the system spe...</td>\n",
       "      <td>[windows, android, studio]</td>\n",
       "      <td>[studio, emulator, whpx]</td>\n",
       "      <td>[system, system, specifiction, edition, home, ...</td>\n",
       "      <td>[studio, emul, whpx]</td>\n",
       "      <td>[system, system, specifict, edit, home, langua...</td>\n",
       "    </tr>\n",
       "    <tr>\n",
       "      <th>24727</th>\n",
       "      <td>how to implement validation using viewmodel an...</td>\n",
       "      <td>what is the best approach to validate form dat...</td>\n",
       "      <td>[android]</td>\n",
       "      <td>[validation, viewmodel, databinding]</td>\n",
       "      <td>[approach, form, viewmodel, sign, activity, la...</td>\n",
       "      <td>[valid, viewmodel, databind]</td>\n",
       "      <td>[approach, form, viewmodel, sign, activ, layou...</td>\n",
       "    </tr>\n",
       "  </tbody>\n",
       "</table>\n",
       "<p>24728 rows × 7 columns</p>\n",
       "</div>"
      ],
      "text/plain": [
       "                                                   Title  \\\n",
       "0      spring mvc   angularjs   file upload   org apa...   \n",
       "1      what are some examples of design pattern imple...   \n",
       "2      what s the best way to get to know linux or bs...   \n",
       "3      is there a performance difference between i   ...   \n",
       "4      is there a performance difference between i   ...   \n",
       "...                                                  ...   \n",
       "24723  how does keras 1d convolution layer work with ...   \n",
       "24724                  clean architecture design pattern   \n",
       "24725  how to do nd distance and nearest neighbor cal...   \n",
       "24726  android studio emulator is not working on wind...   \n",
       "24727  how to implement validation using viewmodel an...   \n",
       "\n",
       "                                                    Body  \\\n",
       "0      i have a java spring mvc web application as se...   \n",
       "1      i m a moderately skilled programmer using java...   \n",
       "2      i d like to gain better knowledge of operating...   \n",
       "3      is there a performance difference between  and...   \n",
       "4      we have the question is there a performance di...   \n",
       "...                                                  ...   \n",
       "24723  i am currently developing a text classificatio...   \n",
       "24724    i have some question about this pattern  the...   \n",
       "24725  this question is intended to be a canonical du...   \n",
       "24726  i have windows 11 on my system  the system spe...   \n",
       "24727  what is the best approach to validate form dat...   \n",
       "\n",
       "                             Tags  \\\n",
       "0       [java, spring, file, mvc]   \n",
       "1            [design, javascript]   \n",
       "2                         [linux]   \n",
       "3                [c, performance]   \n",
       "4        [performance, cplusplus]   \n",
       "...                           ...   \n",
       "24723                    [python]   \n",
       "24724              [java, design]   \n",
       "24725            [arrays, python]   \n",
       "24726  [windows, android, studio]   \n",
       "24727                   [android]   \n",
       "\n",
       "                                           title_bow_lem  \\\n",
       "0      [spring, mvc, angularjs, file, org, apache, fi...   \n",
       "1                                   [design, javascript]   \n",
       "2                                           [linux, bsd]   \n",
       "3                           [performance, difference, c]   \n",
       "4                   [performance, difference, cplusplus]   \n",
       "...                                                  ...   \n",
       "24723  [convolution, layer, work, word, classificatio...   \n",
       "24724                    [architecture, design, pattern]   \n",
       "24725                               [distance, neighbor]   \n",
       "24726                           [studio, emulator, whpx]   \n",
       "24727               [validation, viewmodel, databinding]   \n",
       "\n",
       "                                            body_bow_lem  \\\n",
       "0      [java, spring, mvc, application, server, angul...   \n",
       "1      [programmer, javascript, guru, dom, manipulati...   \n",
       "2      [knowledge, operating, system, management, mem...   \n",
       "3                       [performance, difference, value]   \n",
       "4        [performance, difference, c, answer, cplusplus]   \n",
       "...                                                  ...   \n",
       "24723  [text, classification, tool, validation, accur...   \n",
       "24724  [pattern, database, layer, work, reality, enti...   \n",
       "24725  [duplicate, target, distance, shape, point, po...   \n",
       "24726  [system, system, specifiction, edition, home, ...   \n",
       "24727  [approach, form, viewmodel, sign, activity, la...   \n",
       "\n",
       "                                          title_bow_stem  \\\n",
       "0      [spring, mvc, angularj, file, org, apach, file...   \n",
       "1                                   [design, javascript]   \n",
       "2                                           [linux, bsd]   \n",
       "3                                   [perform, differ, c]   \n",
       "4                           [perform, differ, cplusplus]   \n",
       "...                                                  ...   \n",
       "24723  [convolut, layer, work, word, classif, problem...   \n",
       "24724                     [architectur, design, pattern]   \n",
       "24725                                [distanc, neighbor]   \n",
       "24726                               [studio, emul, whpx]   \n",
       "24727                       [valid, viewmodel, databind]   \n",
       "\n",
       "                                           body_bow_stem  \n",
       "0      [java, spring, mvc, applic, server, angularj, ...  \n",
       "1      [programm, javascript, guru, dom, manipul, des...  \n",
       "2      [knowledg, oper, system, manag, memori, manag,...  \n",
       "3                                [perform, differ, valu]  \n",
       "4                [perform, differ, c, answer, cplusplus]  \n",
       "...                                                  ...  \n",
       "24723  [text, classif, tool, valid, accuraci, head, c...  \n",
       "24724  [pattern, databas, layer, work, realiti, entit...  \n",
       "24725  [duplic, target, distanc, shape, point, point,...  \n",
       "24726  [system, system, specifict, edit, home, langua...  \n",
       "24727  [approach, form, viewmodel, sign, activ, layou...  \n",
       "\n",
       "[24728 rows x 7 columns]"
      ]
     },
     "execution_count": 54,
     "metadata": {},
     "output_type": "execute_result"
    }
   ],
   "source": [
    "data"
   ]
  },
  {
   "cell_type": "markdown",
   "id": "cf190bb5",
   "metadata": {},
   "source": [
    "Certains algorithmes mettraient beaucoup de temps si on les testaient sur toutes les données donc on fera souvent des tests sur une partie seulement des données, par exemple les 5000 premières lignes. \n",
    "\n",
    "On va mélanger nos données pour ne pas biaiser les tests."
   ]
  },
  {
   "cell_type": "code",
   "execution_count": 55,
   "id": "652678c5",
   "metadata": {},
   "outputs": [
    {
     "data": {
      "text/html": [
       "<div>\n",
       "<style scoped>\n",
       "    .dataframe tbody tr th:only-of-type {\n",
       "        vertical-align: middle;\n",
       "    }\n",
       "\n",
       "    .dataframe tbody tr th {\n",
       "        vertical-align: top;\n",
       "    }\n",
       "\n",
       "    .dataframe thead th {\n",
       "        text-align: right;\n",
       "    }\n",
       "</style>\n",
       "<table border=\"1\" class=\"dataframe\">\n",
       "  <thead>\n",
       "    <tr style=\"text-align: right;\">\n",
       "      <th></th>\n",
       "      <th>Title</th>\n",
       "      <th>Body</th>\n",
       "      <th>Tags</th>\n",
       "      <th>title_bow_lem</th>\n",
       "      <th>body_bow_lem</th>\n",
       "      <th>title_bow_stem</th>\n",
       "      <th>body_bow_stem</th>\n",
       "    </tr>\n",
       "  </thead>\n",
       "  <tbody>\n",
       "    <tr>\n",
       "      <th>11519</th>\n",
       "      <td>activerecord or query hash notation</td>\n",
       "      <td>i know there are 3 main notations for supplyin...</td>\n",
       "      <td>[rails, ruby, on]</td>\n",
       "      <td>[activerecord, query, hash, notation]</td>\n",
       "      <td>[activerecord, method, pure, hash, method, met...</td>\n",
       "      <td>[activerecord, queri, hash, notat]</td>\n",
       "      <td>[activerecord, method, pure, hash, method, met...</td>\n",
       "    </tr>\n",
       "    <tr>\n",
       "      <th>13491</th>\n",
       "      <td>faster forking of large processes on linux</td>\n",
       "      <td>what s the fastest  best way on modern linux o...</td>\n",
       "      <td>[linux]</td>\n",
       "      <td>[forking, linux]</td>\n",
       "      <td>[linux, effect, combo, process, process, forki...</td>\n",
       "      <td>[fork, linux]</td>\n",
       "      <td>[linux, effect, combo, process, process, fork,...</td>\n",
       "    </tr>\n",
       "    <tr>\n",
       "      <th>4346</th>\n",
       "      <td>how do i remove repeated elements from arraylist</td>\n",
       "      <td>i have an   and i want to remove repeated stri...</td>\n",
       "      <td>[java]</td>\n",
       "      <td>[arraylist]</td>\n",
       "      <td>[]</td>\n",
       "      <td>[arraylist]</td>\n",
       "      <td>[]</td>\n",
       "    </tr>\n",
       "    <tr>\n",
       "      <th>1526</th>\n",
       "      <td>ios 7 navigation bar text and arrow color</td>\n",
       "      <td>i want to set background for navigation bar to...</td>\n",
       "      <td>[c, objective, iphone, ios]</td>\n",
       "      <td>[navigation, bar, text, arrow, color]</td>\n",
       "      <td>[background, navigation, bar, button, text, co...</td>\n",
       "      <td>[navig, bar, text, arrow, color]</td>\n",
       "      <td>[background, navig, bar, button, text, color, ...</td>\n",
       "    </tr>\n",
       "    <tr>\n",
       "      <th>6160</th>\n",
       "      <td>sql formatting standards</td>\n",
       "      <td>in my last job  we worked on a very database h...</td>\n",
       "      <td>[server, sql]</td>\n",
       "      <td>[sql, formatting]</td>\n",
       "      <td>[job, application, formatting, layout, specifi...</td>\n",
       "      <td>[sql, format]</td>\n",
       "      <td>[job, applic, format, layout, specif, sql, for...</td>\n",
       "    </tr>\n",
       "    <tr>\n",
       "      <th>...</th>\n",
       "      <td>...</td>\n",
       "      <td>...</td>\n",
       "      <td>...</td>\n",
       "      <td>...</td>\n",
       "      <td>...</td>\n",
       "      <td>...</td>\n",
       "      <td>...</td>\n",
       "    </tr>\n",
       "    <tr>\n",
       "      <th>10446</th>\n",
       "      <td>convert an image rgb  lab with python</td>\n",
       "      <td>what is the preferred way of doing the convers...</td>\n",
       "      <td>[python]</td>\n",
       "      <td>[convert, image, rgb, lab, python]</td>\n",
       "      <td>[conversion, scipy, today]</td>\n",
       "      <td>[convert, imag, rgb, lab, python]</td>\n",
       "      <td>[convers, scipi, today]</td>\n",
       "    </tr>\n",
       "    <tr>\n",
       "      <th>6675</th>\n",
       "      <td>is there a  meta  tag to turn off caching in a...</td>\n",
       "      <td>i read that when you don t have access to the ...</td>\n",
       "      <td>[aspdotnet, api, web, html]</td>\n",
       "      <td>[meta, tag]</td>\n",
       "      <td>[access, web, server, cache, work, ie, set, me...</td>\n",
       "      <td>[meta, tag]</td>\n",
       "      <td>[access, web, server, cach, work, ie, set, met...</td>\n",
       "    </tr>\n",
       "    <tr>\n",
       "      <th>16638</th>\n",
       "      <td>css  text transform not working properly for t...</td>\n",
       "      <td>the implementations of the major browsers seem...</td>\n",
       "      <td>[css, html]</td>\n",
       "      <td>[cs, text, transform]</td>\n",
       "      <td>[chrome, meaning, research, issue, workaround,...</td>\n",
       "      <td>[css, text, transform]</td>\n",
       "      <td>[chrome, mean, research, issu, workaround, sor...</td>\n",
       "    </tr>\n",
       "    <tr>\n",
       "      <th>21761</th>\n",
       "      <td>how to use the cancellationtoken property</td>\n",
       "      <td>compared to the preceding code for class rulyc...</td>\n",
       "      <td>[multithreading, csharp]</td>\n",
       "      <td>[cancellationtoken, property]</td>\n",
       "      <td>[class, rulycanceler, cancellation, exception,...</td>\n",
       "      <td>[cancellationtoken, properti]</td>\n",
       "      <td>[class, rulycancel, cancel, except, properti, ...</td>\n",
       "    </tr>\n",
       "    <tr>\n",
       "      <th>3428</th>\n",
       "      <td>java 7 prevents ftp transfers on windows vista...</td>\n",
       "      <td>java 7 prevents ftp transfers on windows vista...</td>\n",
       "      <td>[java, windows]</td>\n",
       "      <td>[java, vista, firewall]</td>\n",
       "      <td>[java, vista, ftp, file, port, command, socket...</td>\n",
       "      <td>[java, vista, firewal]</td>\n",
       "      <td>[java, vista, ftp, file, port, command, socket...</td>\n",
       "    </tr>\n",
       "  </tbody>\n",
       "</table>\n",
       "<p>24728 rows × 7 columns</p>\n",
       "</div>"
      ],
      "text/plain": [
       "                                                   Title  \\\n",
       "11519                activerecord or query hash notation   \n",
       "13491        faster forking of large processes on linux    \n",
       "4346   how do i remove repeated elements from arraylist    \n",
       "1526           ios 7 navigation bar text and arrow color   \n",
       "6160                            sql formatting standards   \n",
       "...                                                  ...   \n",
       "10446              convert an image rgb  lab with python   \n",
       "6675   is there a  meta  tag to turn off caching in a...   \n",
       "16638  css  text transform not working properly for t...   \n",
       "21761         how to use the cancellationtoken property    \n",
       "3428   java 7 prevents ftp transfers on windows vista...   \n",
       "\n",
       "                                                    Body  \\\n",
       "11519  i know there are 3 main notations for supplyin...   \n",
       "13491  what s the fastest  best way on modern linux o...   \n",
       "4346   i have an   and i want to remove repeated stri...   \n",
       "1526   i want to set background for navigation bar to...   \n",
       "6160   in my last job  we worked on a very database h...   \n",
       "...                                                  ...   \n",
       "10446  what is the preferred way of doing the convers...   \n",
       "6675   i read that when you don t have access to the ...   \n",
       "16638  the implementations of the major browsers seem...   \n",
       "21761  compared to the preceding code for class rulyc...   \n",
       "3428   java 7 prevents ftp transfers on windows vista...   \n",
       "\n",
       "                              Tags                          title_bow_lem  \\\n",
       "11519            [rails, ruby, on]  [activerecord, query, hash, notation]   \n",
       "13491                      [linux]                       [forking, linux]   \n",
       "4346                        [java]                            [arraylist]   \n",
       "1526   [c, objective, iphone, ios]  [navigation, bar, text, arrow, color]   \n",
       "6160                 [server, sql]                      [sql, formatting]   \n",
       "...                            ...                                    ...   \n",
       "10446                     [python]     [convert, image, rgb, lab, python]   \n",
       "6675   [aspdotnet, api, web, html]                            [meta, tag]   \n",
       "16638                  [css, html]                  [cs, text, transform]   \n",
       "21761     [multithreading, csharp]          [cancellationtoken, property]   \n",
       "3428               [java, windows]                [java, vista, firewall]   \n",
       "\n",
       "                                            body_bow_lem  \\\n",
       "11519  [activerecord, method, pure, hash, method, met...   \n",
       "13491  [linux, effect, combo, process, process, forki...   \n",
       "4346                                                  []   \n",
       "1526   [background, navigation, bar, button, text, co...   \n",
       "6160   [job, application, formatting, layout, specifi...   \n",
       "...                                                  ...   \n",
       "10446                         [conversion, scipy, today]   \n",
       "6675   [access, web, server, cache, work, ie, set, me...   \n",
       "16638  [chrome, meaning, research, issue, workaround,...   \n",
       "21761  [class, rulycanceler, cancellation, exception,...   \n",
       "3428   [java, vista, ftp, file, port, command, socket...   \n",
       "\n",
       "                           title_bow_stem  \\\n",
       "11519  [activerecord, queri, hash, notat]   \n",
       "13491                       [fork, linux]   \n",
       "4346                          [arraylist]   \n",
       "1526     [navig, bar, text, arrow, color]   \n",
       "6160                        [sql, format]   \n",
       "...                                   ...   \n",
       "10446   [convert, imag, rgb, lab, python]   \n",
       "6675                          [meta, tag]   \n",
       "16638              [css, text, transform]   \n",
       "21761       [cancellationtoken, properti]   \n",
       "3428               [java, vista, firewal]   \n",
       "\n",
       "                                           body_bow_stem  \n",
       "11519  [activerecord, method, pure, hash, method, met...  \n",
       "13491  [linux, effect, combo, process, process, fork,...  \n",
       "4346                                                  []  \n",
       "1526   [background, navig, bar, button, text, color, ...  \n",
       "6160   [job, applic, format, layout, specif, sql, for...  \n",
       "...                                                  ...  \n",
       "10446                            [convers, scipi, today]  \n",
       "6675   [access, web, server, cach, work, ie, set, met...  \n",
       "16638  [chrome, mean, research, issu, workaround, sor...  \n",
       "21761  [class, rulycancel, cancel, except, properti, ...  \n",
       "3428   [java, vista, ftp, file, port, command, socket...  \n",
       "\n",
       "[24728 rows x 7 columns]"
      ]
     },
     "execution_count": 55,
     "metadata": {},
     "output_type": "execute_result"
    }
   ],
   "source": [
    "data = data.sample(frac=1)\n",
    "data"
   ]
  },
  {
   "cell_type": "code",
   "execution_count": 56,
   "id": "037e9f39",
   "metadata": {},
   "outputs": [
    {
     "data": {
      "text/plain": [
       "array([[0, 0, 0, ..., 0, 0, 0],\n",
       "       [0, 0, 0, ..., 0, 0, 0],\n",
       "       [0, 0, 0, ..., 0, 0, 0],\n",
       "       ...,\n",
       "       [0, 0, 0, ..., 0, 0, 0],\n",
       "       [0, 0, 0, ..., 0, 0, 0],\n",
       "       [0, 0, 0, ..., 0, 1, 0]])"
      ]
     },
     "execution_count": 56,
     "metadata": {},
     "output_type": "execute_result"
    }
   ],
   "source": [
    "multilabel = MultiLabelBinarizer()\n",
    "y = multilabel.fit_transform(data['Tags'])\n",
    "y"
   ]
  },
  {
   "cell_type": "code",
   "execution_count": 57,
   "id": "1ec50e2c",
   "metadata": {},
   "outputs": [
    {
     "data": {
      "text/plain": [
       "array(['algorithm', 'android', 'api', 'arrays', 'aspdotnet', 'c', 'cocoa',\n",
       "       'core', 'cplusplus', 'csharp', 'css', 'data', 'database', 'design',\n",
       "       'dotnet', 'file', 'google', 'html', 'image', 'ios', 'iphone',\n",
       "       'java', 'javascript', 'jquery', 'json', 'linux', 'memory',\n",
       "       'multithreading', 'mvc', 'mysql', 'node.js', 'objective', 'on',\n",
       "       'performance', 'php', 'python', 'rails', 'ruby', 'server',\n",
       "       'spring', 'sql', 'string', 'studio', 'swift', 'testing', 'touch',\n",
       "       'visual', 'web', 'windows', 'xcode'], dtype=object)"
      ]
     },
     "execution_count": 57,
     "metadata": {},
     "output_type": "execute_result"
    }
   ],
   "source": [
    "multilabel.classes_"
   ]
  },
  {
   "cell_type": "code",
   "execution_count": 58,
   "id": "64fd2b9d",
   "metadata": {},
   "outputs": [
    {
     "data": {
      "text/html": [
       "<div>\n",
       "<style scoped>\n",
       "    .dataframe tbody tr th:only-of-type {\n",
       "        vertical-align: middle;\n",
       "    }\n",
       "\n",
       "    .dataframe tbody tr th {\n",
       "        vertical-align: top;\n",
       "    }\n",
       "\n",
       "    .dataframe thead th {\n",
       "        text-align: right;\n",
       "    }\n",
       "</style>\n",
       "<table border=\"1\" class=\"dataframe\">\n",
       "  <thead>\n",
       "    <tr style=\"text-align: right;\">\n",
       "      <th></th>\n",
       "      <th>algorithm</th>\n",
       "      <th>android</th>\n",
       "      <th>api</th>\n",
       "      <th>arrays</th>\n",
       "      <th>aspdotnet</th>\n",
       "      <th>c</th>\n",
       "      <th>cocoa</th>\n",
       "      <th>core</th>\n",
       "      <th>cplusplus</th>\n",
       "      <th>csharp</th>\n",
       "      <th>...</th>\n",
       "      <th>sql</th>\n",
       "      <th>string</th>\n",
       "      <th>studio</th>\n",
       "      <th>swift</th>\n",
       "      <th>testing</th>\n",
       "      <th>touch</th>\n",
       "      <th>visual</th>\n",
       "      <th>web</th>\n",
       "      <th>windows</th>\n",
       "      <th>xcode</th>\n",
       "    </tr>\n",
       "  </thead>\n",
       "  <tbody>\n",
       "    <tr>\n",
       "      <th>0</th>\n",
       "      <td>0</td>\n",
       "      <td>0</td>\n",
       "      <td>0</td>\n",
       "      <td>0</td>\n",
       "      <td>0</td>\n",
       "      <td>0</td>\n",
       "      <td>0</td>\n",
       "      <td>0</td>\n",
       "      <td>0</td>\n",
       "      <td>0</td>\n",
       "      <td>...</td>\n",
       "      <td>0</td>\n",
       "      <td>0</td>\n",
       "      <td>0</td>\n",
       "      <td>0</td>\n",
       "      <td>0</td>\n",
       "      <td>0</td>\n",
       "      <td>0</td>\n",
       "      <td>0</td>\n",
       "      <td>0</td>\n",
       "      <td>0</td>\n",
       "    </tr>\n",
       "    <tr>\n",
       "      <th>1</th>\n",
       "      <td>0</td>\n",
       "      <td>0</td>\n",
       "      <td>0</td>\n",
       "      <td>0</td>\n",
       "      <td>0</td>\n",
       "      <td>0</td>\n",
       "      <td>0</td>\n",
       "      <td>0</td>\n",
       "      <td>0</td>\n",
       "      <td>0</td>\n",
       "      <td>...</td>\n",
       "      <td>0</td>\n",
       "      <td>0</td>\n",
       "      <td>0</td>\n",
       "      <td>0</td>\n",
       "      <td>0</td>\n",
       "      <td>0</td>\n",
       "      <td>0</td>\n",
       "      <td>0</td>\n",
       "      <td>0</td>\n",
       "      <td>0</td>\n",
       "    </tr>\n",
       "    <tr>\n",
       "      <th>2</th>\n",
       "      <td>0</td>\n",
       "      <td>0</td>\n",
       "      <td>0</td>\n",
       "      <td>0</td>\n",
       "      <td>0</td>\n",
       "      <td>0</td>\n",
       "      <td>0</td>\n",
       "      <td>0</td>\n",
       "      <td>0</td>\n",
       "      <td>0</td>\n",
       "      <td>...</td>\n",
       "      <td>0</td>\n",
       "      <td>0</td>\n",
       "      <td>0</td>\n",
       "      <td>0</td>\n",
       "      <td>0</td>\n",
       "      <td>0</td>\n",
       "      <td>0</td>\n",
       "      <td>0</td>\n",
       "      <td>0</td>\n",
       "      <td>0</td>\n",
       "    </tr>\n",
       "    <tr>\n",
       "      <th>3</th>\n",
       "      <td>0</td>\n",
       "      <td>0</td>\n",
       "      <td>0</td>\n",
       "      <td>0</td>\n",
       "      <td>0</td>\n",
       "      <td>1</td>\n",
       "      <td>0</td>\n",
       "      <td>0</td>\n",
       "      <td>0</td>\n",
       "      <td>0</td>\n",
       "      <td>...</td>\n",
       "      <td>0</td>\n",
       "      <td>0</td>\n",
       "      <td>0</td>\n",
       "      <td>0</td>\n",
       "      <td>0</td>\n",
       "      <td>0</td>\n",
       "      <td>0</td>\n",
       "      <td>0</td>\n",
       "      <td>0</td>\n",
       "      <td>0</td>\n",
       "    </tr>\n",
       "    <tr>\n",
       "      <th>4</th>\n",
       "      <td>0</td>\n",
       "      <td>0</td>\n",
       "      <td>0</td>\n",
       "      <td>0</td>\n",
       "      <td>0</td>\n",
       "      <td>0</td>\n",
       "      <td>0</td>\n",
       "      <td>0</td>\n",
       "      <td>0</td>\n",
       "      <td>0</td>\n",
       "      <td>...</td>\n",
       "      <td>1</td>\n",
       "      <td>0</td>\n",
       "      <td>0</td>\n",
       "      <td>0</td>\n",
       "      <td>0</td>\n",
       "      <td>0</td>\n",
       "      <td>0</td>\n",
       "      <td>0</td>\n",
       "      <td>0</td>\n",
       "      <td>0</td>\n",
       "    </tr>\n",
       "    <tr>\n",
       "      <th>...</th>\n",
       "      <td>...</td>\n",
       "      <td>...</td>\n",
       "      <td>...</td>\n",
       "      <td>...</td>\n",
       "      <td>...</td>\n",
       "      <td>...</td>\n",
       "      <td>...</td>\n",
       "      <td>...</td>\n",
       "      <td>...</td>\n",
       "      <td>...</td>\n",
       "      <td>...</td>\n",
       "      <td>...</td>\n",
       "      <td>...</td>\n",
       "      <td>...</td>\n",
       "      <td>...</td>\n",
       "      <td>...</td>\n",
       "      <td>...</td>\n",
       "      <td>...</td>\n",
       "      <td>...</td>\n",
       "      <td>...</td>\n",
       "      <td>...</td>\n",
       "    </tr>\n",
       "    <tr>\n",
       "      <th>24723</th>\n",
       "      <td>0</td>\n",
       "      <td>0</td>\n",
       "      <td>0</td>\n",
       "      <td>0</td>\n",
       "      <td>0</td>\n",
       "      <td>0</td>\n",
       "      <td>0</td>\n",
       "      <td>0</td>\n",
       "      <td>0</td>\n",
       "      <td>0</td>\n",
       "      <td>...</td>\n",
       "      <td>0</td>\n",
       "      <td>0</td>\n",
       "      <td>0</td>\n",
       "      <td>0</td>\n",
       "      <td>0</td>\n",
       "      <td>0</td>\n",
       "      <td>0</td>\n",
       "      <td>0</td>\n",
       "      <td>0</td>\n",
       "      <td>0</td>\n",
       "    </tr>\n",
       "    <tr>\n",
       "      <th>24724</th>\n",
       "      <td>0</td>\n",
       "      <td>0</td>\n",
       "      <td>1</td>\n",
       "      <td>0</td>\n",
       "      <td>1</td>\n",
       "      <td>0</td>\n",
       "      <td>0</td>\n",
       "      <td>0</td>\n",
       "      <td>0</td>\n",
       "      <td>0</td>\n",
       "      <td>...</td>\n",
       "      <td>0</td>\n",
       "      <td>0</td>\n",
       "      <td>0</td>\n",
       "      <td>0</td>\n",
       "      <td>0</td>\n",
       "      <td>0</td>\n",
       "      <td>0</td>\n",
       "      <td>1</td>\n",
       "      <td>0</td>\n",
       "      <td>0</td>\n",
       "    </tr>\n",
       "    <tr>\n",
       "      <th>24725</th>\n",
       "      <td>0</td>\n",
       "      <td>0</td>\n",
       "      <td>0</td>\n",
       "      <td>0</td>\n",
       "      <td>0</td>\n",
       "      <td>0</td>\n",
       "      <td>0</td>\n",
       "      <td>0</td>\n",
       "      <td>0</td>\n",
       "      <td>0</td>\n",
       "      <td>...</td>\n",
       "      <td>0</td>\n",
       "      <td>0</td>\n",
       "      <td>0</td>\n",
       "      <td>0</td>\n",
       "      <td>0</td>\n",
       "      <td>0</td>\n",
       "      <td>0</td>\n",
       "      <td>0</td>\n",
       "      <td>0</td>\n",
       "      <td>0</td>\n",
       "    </tr>\n",
       "    <tr>\n",
       "      <th>24726</th>\n",
       "      <td>0</td>\n",
       "      <td>0</td>\n",
       "      <td>0</td>\n",
       "      <td>0</td>\n",
       "      <td>0</td>\n",
       "      <td>0</td>\n",
       "      <td>0</td>\n",
       "      <td>0</td>\n",
       "      <td>0</td>\n",
       "      <td>1</td>\n",
       "      <td>...</td>\n",
       "      <td>0</td>\n",
       "      <td>0</td>\n",
       "      <td>0</td>\n",
       "      <td>0</td>\n",
       "      <td>0</td>\n",
       "      <td>0</td>\n",
       "      <td>0</td>\n",
       "      <td>0</td>\n",
       "      <td>0</td>\n",
       "      <td>0</td>\n",
       "    </tr>\n",
       "    <tr>\n",
       "      <th>24727</th>\n",
       "      <td>0</td>\n",
       "      <td>0</td>\n",
       "      <td>0</td>\n",
       "      <td>0</td>\n",
       "      <td>0</td>\n",
       "      <td>0</td>\n",
       "      <td>0</td>\n",
       "      <td>0</td>\n",
       "      <td>0</td>\n",
       "      <td>0</td>\n",
       "      <td>...</td>\n",
       "      <td>0</td>\n",
       "      <td>0</td>\n",
       "      <td>0</td>\n",
       "      <td>0</td>\n",
       "      <td>0</td>\n",
       "      <td>0</td>\n",
       "      <td>0</td>\n",
       "      <td>0</td>\n",
       "      <td>1</td>\n",
       "      <td>0</td>\n",
       "    </tr>\n",
       "  </tbody>\n",
       "</table>\n",
       "<p>24728 rows × 50 columns</p>\n",
       "</div>"
      ],
      "text/plain": [
       "       algorithm  android  api  arrays  aspdotnet  c  cocoa  core  cplusplus  \\\n",
       "0              0        0    0       0          0  0      0     0          0   \n",
       "1              0        0    0       0          0  0      0     0          0   \n",
       "2              0        0    0       0          0  0      0     0          0   \n",
       "3              0        0    0       0          0  1      0     0          0   \n",
       "4              0        0    0       0          0  0      0     0          0   \n",
       "...          ...      ...  ...     ...        ... ..    ...   ...        ...   \n",
       "24723          0        0    0       0          0  0      0     0          0   \n",
       "24724          0        0    1       0          1  0      0     0          0   \n",
       "24725          0        0    0       0          0  0      0     0          0   \n",
       "24726          0        0    0       0          0  0      0     0          0   \n",
       "24727          0        0    0       0          0  0      0     0          0   \n",
       "\n",
       "       csharp  ...  sql  string  studio  swift  testing  touch  visual  web  \\\n",
       "0           0  ...    0       0       0      0        0      0       0    0   \n",
       "1           0  ...    0       0       0      0        0      0       0    0   \n",
       "2           0  ...    0       0       0      0        0      0       0    0   \n",
       "3           0  ...    0       0       0      0        0      0       0    0   \n",
       "4           0  ...    1       0       0      0        0      0       0    0   \n",
       "...       ...  ...  ...     ...     ...    ...      ...    ...     ...  ...   \n",
       "24723       0  ...    0       0       0      0        0      0       0    0   \n",
       "24724       0  ...    0       0       0      0        0      0       0    1   \n",
       "24725       0  ...    0       0       0      0        0      0       0    0   \n",
       "24726       1  ...    0       0       0      0        0      0       0    0   \n",
       "24727       0  ...    0       0       0      0        0      0       0    0   \n",
       "\n",
       "       windows  xcode  \n",
       "0            0      0  \n",
       "1            0      0  \n",
       "2            0      0  \n",
       "3            0      0  \n",
       "4            0      0  \n",
       "...        ...    ...  \n",
       "24723        0      0  \n",
       "24724        0      0  \n",
       "24725        0      0  \n",
       "24726        0      0  \n",
       "24727        1      0  \n",
       "\n",
       "[24728 rows x 50 columns]"
      ]
     },
     "execution_count": 58,
     "metadata": {},
     "output_type": "execute_result"
    }
   ],
   "source": [
    "pd.DataFrame(y, columns=multilabel.classes_)"
   ]
  },
  {
   "cell_type": "markdown",
   "id": "9d31f3ac",
   "metadata": {},
   "source": [
    "Dans un premier temps, on va tester différents algorithmes sur les 5000 premières questions, en prenant en compte 'body_bow_lem'. On sélectionnera le meilleurs algorithmes et on fera des tests supplémentaires avec d'autres données."
   ]
  },
  {
   "cell_type": "code",
   "execution_count": 59,
   "id": "b8023703",
   "metadata": {},
   "outputs": [],
   "source": [
    "X = data['body_bow_lem'].apply(lambda x: ' '.join(x)).iloc[:5000]\n",
    "Y = y[:5000]"
   ]
  },
  {
   "cell_type": "code",
   "execution_count": 60,
   "id": "76bf8c18",
   "metadata": {},
   "outputs": [],
   "source": [
    "X_train, X_test, Y_train, Y_test = train_test_split(X, Y, random_state=21, train_size=0.8)"
   ]
  },
  {
   "cell_type": "code",
   "execution_count": 61,
   "id": "8538bbd6",
   "metadata": {
    "scrolled": true
   },
   "outputs": [
    {
     "data": {
      "text/plain": [
       "12507    file help csharp column value cell copy datata...\n",
       "19020                         django beanstalk celery node\n",
       "18245                                                 file\n",
       "13206    documentation phone platform dismay cplusplus ...\n",
       "17327    jasmine browser fixture component dom componen...\n",
       "                               ...                        \n",
       "3560     library cortex a9 arm processor omap4 bit conf...\n",
       "1942     structure field field transaction insert handf...\n",
       "16146    game bird user finger screen bird fly uiscroll...\n",
       "7124     javascript cs solution version variable page v...\n",
       "12603       value integer compiler cplusplus function java\n",
       "Name: body_bow_lem, Length: 4000, dtype: object"
      ]
     },
     "execution_count": 61,
     "metadata": {},
     "output_type": "execute_result"
    }
   ],
   "source": [
    "X_train"
   ]
  },
  {
   "cell_type": "code",
   "execution_count": 62,
   "id": "811644a5",
   "metadata": {},
   "outputs": [],
   "source": [
    "from sklearn.pipeline import Pipeline\n",
    "from sklearn.feature_extraction.text import TfidfVectorizer\n",
    "from sklearn.naive_bayes import MultinomialNB\n",
    "from sklearn.svm import LinearSVC\n",
    "from sklearn.ensemble import RandomForestClassifier\n",
    "from sklearn.ensemble import AdaBoostClassifier\n",
    "from sklearn.multiclass import OneVsRestClassifier\n",
    "from sklearn.metrics import accuracy_score\n",
    "from sklearn.metrics import jaccard_score"
   ]
  },
  {
   "cell_type": "code",
   "execution_count": 63,
   "id": "3a1329bd",
   "metadata": {},
   "outputs": [],
   "source": [
    "resultats = {}"
   ]
  },
  {
   "cell_type": "markdown",
   "id": "cbbeb3bc",
   "metadata": {},
   "source": [
    "## Multinomial"
   ]
  },
  {
   "cell_type": "code",
   "execution_count": 64,
   "id": "8a7c8367",
   "metadata": {},
   "outputs": [],
   "source": [
    "from sklearn.model_selection import GridSearchCV"
   ]
  },
  {
   "cell_type": "code",
   "execution_count": 65,
   "id": "b7eab6bf",
   "metadata": {},
   "outputs": [],
   "source": [
    "# grille d'hyperparamètres\n",
    "param_grid = {'alpha': [0.01, 0.1, 1, 4, 10]}\n",
    "\n",
    "# initialiser la validation croisée\n",
    "grid_pred = GridSearchCV(\n",
    "        MultinomialNB(fit_prior=True, class_prior=None),\n",
    "        param_grid,\n",
    "        cv=5)"
   ]
  },
  {
   "cell_type": "code",
   "execution_count": 66,
   "id": "2f9c4049",
   "metadata": {},
   "outputs": [],
   "source": [
    "NB_pipeline = Pipeline([\n",
    "                ('tfidf', TfidfVectorizer()),\n",
    "                ('clf', OneVsRestClassifier(grid_pred)),\n",
    "            ])"
   ]
  },
  {
   "cell_type": "code",
   "execution_count": 67,
   "id": "c351d77d",
   "metadata": {},
   "outputs": [
    {
     "data": {
      "text/html": [
       "<style>#sk-container-id-7 {color: black;background-color: white;}#sk-container-id-7 pre{padding: 0;}#sk-container-id-7 div.sk-toggleable {background-color: white;}#sk-container-id-7 label.sk-toggleable__label {cursor: pointer;display: block;width: 100%;margin-bottom: 0;padding: 0.3em;box-sizing: border-box;text-align: center;}#sk-container-id-7 label.sk-toggleable__label-arrow:before {content: \"▸\";float: left;margin-right: 0.25em;color: #696969;}#sk-container-id-7 label.sk-toggleable__label-arrow:hover:before {color: black;}#sk-container-id-7 div.sk-estimator:hover label.sk-toggleable__label-arrow:before {color: black;}#sk-container-id-7 div.sk-toggleable__content {max-height: 0;max-width: 0;overflow: hidden;text-align: left;background-color: #f0f8ff;}#sk-container-id-7 div.sk-toggleable__content pre {margin: 0.2em;color: black;border-radius: 0.25em;background-color: #f0f8ff;}#sk-container-id-7 input.sk-toggleable__control:checked~div.sk-toggleable__content {max-height: 200px;max-width: 100%;overflow: auto;}#sk-container-id-7 input.sk-toggleable__control:checked~label.sk-toggleable__label-arrow:before {content: \"▾\";}#sk-container-id-7 div.sk-estimator input.sk-toggleable__control:checked~label.sk-toggleable__label {background-color: #d4ebff;}#sk-container-id-7 div.sk-label input.sk-toggleable__control:checked~label.sk-toggleable__label {background-color: #d4ebff;}#sk-container-id-7 input.sk-hidden--visually {border: 0;clip: rect(1px 1px 1px 1px);clip: rect(1px, 1px, 1px, 1px);height: 1px;margin: -1px;overflow: hidden;padding: 0;position: absolute;width: 1px;}#sk-container-id-7 div.sk-estimator {font-family: monospace;background-color: #f0f8ff;border: 1px dotted black;border-radius: 0.25em;box-sizing: border-box;margin-bottom: 0.5em;}#sk-container-id-7 div.sk-estimator:hover {background-color: #d4ebff;}#sk-container-id-7 div.sk-parallel-item::after {content: \"\";width: 100%;border-bottom: 1px solid gray;flex-grow: 1;}#sk-container-id-7 div.sk-label:hover label.sk-toggleable__label {background-color: #d4ebff;}#sk-container-id-7 div.sk-serial::before {content: \"\";position: absolute;border-left: 1px solid gray;box-sizing: border-box;top: 0;bottom: 0;left: 50%;z-index: 0;}#sk-container-id-7 div.sk-serial {display: flex;flex-direction: column;align-items: center;background-color: white;padding-right: 0.2em;padding-left: 0.2em;position: relative;}#sk-container-id-7 div.sk-item {position: relative;z-index: 1;}#sk-container-id-7 div.sk-parallel {display: flex;align-items: stretch;justify-content: center;background-color: white;position: relative;}#sk-container-id-7 div.sk-item::before, #sk-container-id-7 div.sk-parallel-item::before {content: \"\";position: absolute;border-left: 1px solid gray;box-sizing: border-box;top: 0;bottom: 0;left: 50%;z-index: -1;}#sk-container-id-7 div.sk-parallel-item {display: flex;flex-direction: column;z-index: 1;position: relative;background-color: white;}#sk-container-id-7 div.sk-parallel-item:first-child::after {align-self: flex-end;width: 50%;}#sk-container-id-7 div.sk-parallel-item:last-child::after {align-self: flex-start;width: 50%;}#sk-container-id-7 div.sk-parallel-item:only-child::after {width: 0;}#sk-container-id-7 div.sk-dashed-wrapped {border: 1px dashed gray;margin: 0 0.4em 0.5em 0.4em;box-sizing: border-box;padding-bottom: 0.4em;background-color: white;}#sk-container-id-7 div.sk-label label {font-family: monospace;font-weight: bold;display: inline-block;line-height: 1.2em;}#sk-container-id-7 div.sk-label-container {text-align: center;}#sk-container-id-7 div.sk-container {/* jupyter's `normalize.less` sets `[hidden] { display: none; }` but bootstrap.min.css set `[hidden] { display: none !important; }` so we also need the `!important` here to be able to override the default hidden behavior on the sphinx rendered scikit-learn.org. See: https://github.com/scikit-learn/scikit-learn/issues/21755 */display: inline-block !important;position: relative;}#sk-container-id-7 div.sk-text-repr-fallback {display: none;}</style><div id=\"sk-container-id-7\" class=\"sk-top-container\"><div class=\"sk-text-repr-fallback\"><pre>Pipeline(steps=[(&#x27;tfidf&#x27;, TfidfVectorizer()),\n",
       "                (&#x27;clf&#x27;,\n",
       "                 OneVsRestClassifier(estimator=GridSearchCV(cv=5,\n",
       "                                                            estimator=MultinomialNB(),\n",
       "                                                            param_grid={&#x27;alpha&#x27;: [0.01,\n",
       "                                                                                  0.1,\n",
       "                                                                                  1,\n",
       "                                                                                  4,\n",
       "                                                                                  10]})))])</pre><b>In a Jupyter environment, please rerun this cell to show the HTML representation or trust the notebook. <br />On GitHub, the HTML representation is unable to render, please try loading this page with nbviewer.org.</b></div><div class=\"sk-container\" hidden><div class=\"sk-item sk-dashed-wrapped\"><div class=\"sk-label-container\"><div class=\"sk-label sk-toggleable\"><input class=\"sk-toggleable__control sk-hidden--visually\" id=\"sk-estimator-id-35\" type=\"checkbox\" ><label for=\"sk-estimator-id-35\" class=\"sk-toggleable__label sk-toggleable__label-arrow\">Pipeline</label><div class=\"sk-toggleable__content\"><pre>Pipeline(steps=[(&#x27;tfidf&#x27;, TfidfVectorizer()),\n",
       "                (&#x27;clf&#x27;,\n",
       "                 OneVsRestClassifier(estimator=GridSearchCV(cv=5,\n",
       "                                                            estimator=MultinomialNB(),\n",
       "                                                            param_grid={&#x27;alpha&#x27;: [0.01,\n",
       "                                                                                  0.1,\n",
       "                                                                                  1,\n",
       "                                                                                  4,\n",
       "                                                                                  10]})))])</pre></div></div></div><div class=\"sk-serial\"><div class=\"sk-item\"><div class=\"sk-estimator sk-toggleable\"><input class=\"sk-toggleable__control sk-hidden--visually\" id=\"sk-estimator-id-36\" type=\"checkbox\" ><label for=\"sk-estimator-id-36\" class=\"sk-toggleable__label sk-toggleable__label-arrow\">TfidfVectorizer</label><div class=\"sk-toggleable__content\"><pre>TfidfVectorizer()</pre></div></div></div><div class=\"sk-item sk-dashed-wrapped\"><div class=\"sk-label-container\"><div class=\"sk-label sk-toggleable\"><input class=\"sk-toggleable__control sk-hidden--visually\" id=\"sk-estimator-id-37\" type=\"checkbox\" ><label for=\"sk-estimator-id-37\" class=\"sk-toggleable__label sk-toggleable__label-arrow\">clf: OneVsRestClassifier</label><div class=\"sk-toggleable__content\"><pre>OneVsRestClassifier(estimator=GridSearchCV(cv=5, estimator=MultinomialNB(),\n",
       "                                           param_grid={&#x27;alpha&#x27;: [0.01, 0.1, 1,\n",
       "                                                                 4, 10]}))</pre></div></div></div><div class=\"sk-parallel\"><div class=\"sk-parallel-item\"><div class=\"sk-item\"><div class=\"sk-label-container\"><div class=\"sk-label sk-toggleable\"><input class=\"sk-toggleable__control sk-hidden--visually\" id=\"sk-estimator-id-38\" type=\"checkbox\" ><label for=\"sk-estimator-id-38\" class=\"sk-toggleable__label sk-toggleable__label-arrow\">estimator: GridSearchCV</label><div class=\"sk-toggleable__content\"><pre>GridSearchCV(cv=5, estimator=MultinomialNB(),\n",
       "             param_grid={&#x27;alpha&#x27;: [0.01, 0.1, 1, 4, 10]})</pre></div></div></div><div class=\"sk-serial\"><div class=\"sk-item sk-dashed-wrapped\"><div class=\"sk-parallel\"><div class=\"sk-parallel-item\"><div class=\"sk-item\"><div class=\"sk-label-container\"><div class=\"sk-label sk-toggleable\"><input class=\"sk-toggleable__control sk-hidden--visually\" id=\"sk-estimator-id-39\" type=\"checkbox\" ><label for=\"sk-estimator-id-39\" class=\"sk-toggleable__label sk-toggleable__label-arrow\">estimator: MultinomialNB</label><div class=\"sk-toggleable__content\"><pre>MultinomialNB()</pre></div></div></div><div class=\"sk-serial\"><div class=\"sk-item\"><div class=\"sk-estimator sk-toggleable\"><input class=\"sk-toggleable__control sk-hidden--visually\" id=\"sk-estimator-id-40\" type=\"checkbox\" ><label for=\"sk-estimator-id-40\" class=\"sk-toggleable__label sk-toggleable__label-arrow\">MultinomialNB</label><div class=\"sk-toggleable__content\"><pre>MultinomialNB()</pre></div></div></div></div></div></div></div></div></div></div></div></div></div></div></div></div></div>"
      ],
      "text/plain": [
       "Pipeline(steps=[('tfidf', TfidfVectorizer()),\n",
       "                ('clf',\n",
       "                 OneVsRestClassifier(estimator=GridSearchCV(cv=5,\n",
       "                                                            estimator=MultinomialNB(),\n",
       "                                                            param_grid={'alpha': [0.01,\n",
       "                                                                                  0.1,\n",
       "                                                                                  1,\n",
       "                                                                                  4,\n",
       "                                                                                  10]})))])"
      ]
     },
     "execution_count": 67,
     "metadata": {},
     "output_type": "execute_result"
    }
   ],
   "source": [
    "NB_pipeline.fit(X_train, Y_train)"
   ]
  },
  {
   "cell_type": "code",
   "execution_count": 68,
   "id": "722ed69c",
   "metadata": {},
   "outputs": [],
   "source": [
    "pred = NB_pipeline.predict(X_test)"
   ]
  },
  {
   "cell_type": "code",
   "execution_count": 69,
   "id": "20af8774",
   "metadata": {},
   "outputs": [
    {
     "data": {
      "text/plain": [
       "0.03728035806568358"
      ]
     },
     "execution_count": 69,
     "metadata": {},
     "output_type": "execute_result"
    }
   ],
   "source": [
    "jaccard_score(Y_test, pred, average='macro')"
   ]
  },
  {
   "cell_type": "code",
   "execution_count": 70,
   "id": "182f15dc",
   "metadata": {},
   "outputs": [],
   "source": [
    "resultats['Multinomial'] = jaccard_score(Y_test, pred, average='macro')"
   ]
  },
  {
   "cell_type": "markdown",
   "id": "a318b7ff",
   "metadata": {},
   "source": [
    "### Linear SVC"
   ]
  },
  {
   "cell_type": "code",
   "execution_count": 71,
   "id": "fd774158",
   "metadata": {},
   "outputs": [],
   "source": [
    "# grille d'hyperparamètres\n",
    "param_grid = {'C': [0.5, 1, 2, 5]}\n",
    "\n",
    "# initialiser la validation croisée\n",
    "grid_pred = GridSearchCV(\n",
    "        LinearSVC(),\n",
    "        param_grid,\n",
    "        cv=5)"
   ]
  },
  {
   "cell_type": "code",
   "execution_count": 72,
   "id": "c4d832f8",
   "metadata": {},
   "outputs": [],
   "source": [
    "SVC_pipeline = Pipeline([\n",
    "                ('tfidf', TfidfVectorizer()),\n",
    "                ('clf', OneVsRestClassifier(grid_pred, n_jobs=1)),\n",
    "            ])"
   ]
  },
  {
   "cell_type": "code",
   "execution_count": 73,
   "id": "d13e9d99",
   "metadata": {},
   "outputs": [
    {
     "data": {
      "text/html": [
       "<style>#sk-container-id-8 {color: black;background-color: white;}#sk-container-id-8 pre{padding: 0;}#sk-container-id-8 div.sk-toggleable {background-color: white;}#sk-container-id-8 label.sk-toggleable__label {cursor: pointer;display: block;width: 100%;margin-bottom: 0;padding: 0.3em;box-sizing: border-box;text-align: center;}#sk-container-id-8 label.sk-toggleable__label-arrow:before {content: \"▸\";float: left;margin-right: 0.25em;color: #696969;}#sk-container-id-8 label.sk-toggleable__label-arrow:hover:before {color: black;}#sk-container-id-8 div.sk-estimator:hover label.sk-toggleable__label-arrow:before {color: black;}#sk-container-id-8 div.sk-toggleable__content {max-height: 0;max-width: 0;overflow: hidden;text-align: left;background-color: #f0f8ff;}#sk-container-id-8 div.sk-toggleable__content pre {margin: 0.2em;color: black;border-radius: 0.25em;background-color: #f0f8ff;}#sk-container-id-8 input.sk-toggleable__control:checked~div.sk-toggleable__content {max-height: 200px;max-width: 100%;overflow: auto;}#sk-container-id-8 input.sk-toggleable__control:checked~label.sk-toggleable__label-arrow:before {content: \"▾\";}#sk-container-id-8 div.sk-estimator input.sk-toggleable__control:checked~label.sk-toggleable__label {background-color: #d4ebff;}#sk-container-id-8 div.sk-label input.sk-toggleable__control:checked~label.sk-toggleable__label {background-color: #d4ebff;}#sk-container-id-8 input.sk-hidden--visually {border: 0;clip: rect(1px 1px 1px 1px);clip: rect(1px, 1px, 1px, 1px);height: 1px;margin: -1px;overflow: hidden;padding: 0;position: absolute;width: 1px;}#sk-container-id-8 div.sk-estimator {font-family: monospace;background-color: #f0f8ff;border: 1px dotted black;border-radius: 0.25em;box-sizing: border-box;margin-bottom: 0.5em;}#sk-container-id-8 div.sk-estimator:hover {background-color: #d4ebff;}#sk-container-id-8 div.sk-parallel-item::after {content: \"\";width: 100%;border-bottom: 1px solid gray;flex-grow: 1;}#sk-container-id-8 div.sk-label:hover label.sk-toggleable__label {background-color: #d4ebff;}#sk-container-id-8 div.sk-serial::before {content: \"\";position: absolute;border-left: 1px solid gray;box-sizing: border-box;top: 0;bottom: 0;left: 50%;z-index: 0;}#sk-container-id-8 div.sk-serial {display: flex;flex-direction: column;align-items: center;background-color: white;padding-right: 0.2em;padding-left: 0.2em;position: relative;}#sk-container-id-8 div.sk-item {position: relative;z-index: 1;}#sk-container-id-8 div.sk-parallel {display: flex;align-items: stretch;justify-content: center;background-color: white;position: relative;}#sk-container-id-8 div.sk-item::before, #sk-container-id-8 div.sk-parallel-item::before {content: \"\";position: absolute;border-left: 1px solid gray;box-sizing: border-box;top: 0;bottom: 0;left: 50%;z-index: -1;}#sk-container-id-8 div.sk-parallel-item {display: flex;flex-direction: column;z-index: 1;position: relative;background-color: white;}#sk-container-id-8 div.sk-parallel-item:first-child::after {align-self: flex-end;width: 50%;}#sk-container-id-8 div.sk-parallel-item:last-child::after {align-self: flex-start;width: 50%;}#sk-container-id-8 div.sk-parallel-item:only-child::after {width: 0;}#sk-container-id-8 div.sk-dashed-wrapped {border: 1px dashed gray;margin: 0 0.4em 0.5em 0.4em;box-sizing: border-box;padding-bottom: 0.4em;background-color: white;}#sk-container-id-8 div.sk-label label {font-family: monospace;font-weight: bold;display: inline-block;line-height: 1.2em;}#sk-container-id-8 div.sk-label-container {text-align: center;}#sk-container-id-8 div.sk-container {/* jupyter's `normalize.less` sets `[hidden] { display: none; }` but bootstrap.min.css set `[hidden] { display: none !important; }` so we also need the `!important` here to be able to override the default hidden behavior on the sphinx rendered scikit-learn.org. See: https://github.com/scikit-learn/scikit-learn/issues/21755 */display: inline-block !important;position: relative;}#sk-container-id-8 div.sk-text-repr-fallback {display: none;}</style><div id=\"sk-container-id-8\" class=\"sk-top-container\"><div class=\"sk-text-repr-fallback\"><pre>Pipeline(steps=[(&#x27;tfidf&#x27;, TfidfVectorizer()),\n",
       "                (&#x27;clf&#x27;,\n",
       "                 OneVsRestClassifier(estimator=GridSearchCV(cv=5,\n",
       "                                                            estimator=LinearSVC(),\n",
       "                                                            param_grid={&#x27;C&#x27;: [0.5,\n",
       "                                                                              1,\n",
       "                                                                              2,\n",
       "                                                                              5]}),\n",
       "                                     n_jobs=1))])</pre><b>In a Jupyter environment, please rerun this cell to show the HTML representation or trust the notebook. <br />On GitHub, the HTML representation is unable to render, please try loading this page with nbviewer.org.</b></div><div class=\"sk-container\" hidden><div class=\"sk-item sk-dashed-wrapped\"><div class=\"sk-label-container\"><div class=\"sk-label sk-toggleable\"><input class=\"sk-toggleable__control sk-hidden--visually\" id=\"sk-estimator-id-41\" type=\"checkbox\" ><label for=\"sk-estimator-id-41\" class=\"sk-toggleable__label sk-toggleable__label-arrow\">Pipeline</label><div class=\"sk-toggleable__content\"><pre>Pipeline(steps=[(&#x27;tfidf&#x27;, TfidfVectorizer()),\n",
       "                (&#x27;clf&#x27;,\n",
       "                 OneVsRestClassifier(estimator=GridSearchCV(cv=5,\n",
       "                                                            estimator=LinearSVC(),\n",
       "                                                            param_grid={&#x27;C&#x27;: [0.5,\n",
       "                                                                              1,\n",
       "                                                                              2,\n",
       "                                                                              5]}),\n",
       "                                     n_jobs=1))])</pre></div></div></div><div class=\"sk-serial\"><div class=\"sk-item\"><div class=\"sk-estimator sk-toggleable\"><input class=\"sk-toggleable__control sk-hidden--visually\" id=\"sk-estimator-id-42\" type=\"checkbox\" ><label for=\"sk-estimator-id-42\" class=\"sk-toggleable__label sk-toggleable__label-arrow\">TfidfVectorizer</label><div class=\"sk-toggleable__content\"><pre>TfidfVectorizer()</pre></div></div></div><div class=\"sk-item sk-dashed-wrapped\"><div class=\"sk-label-container\"><div class=\"sk-label sk-toggleable\"><input class=\"sk-toggleable__control sk-hidden--visually\" id=\"sk-estimator-id-43\" type=\"checkbox\" ><label for=\"sk-estimator-id-43\" class=\"sk-toggleable__label sk-toggleable__label-arrow\">clf: OneVsRestClassifier</label><div class=\"sk-toggleable__content\"><pre>OneVsRestClassifier(estimator=GridSearchCV(cv=5, estimator=LinearSVC(),\n",
       "                                           param_grid={&#x27;C&#x27;: [0.5, 1, 2, 5]}),\n",
       "                    n_jobs=1)</pre></div></div></div><div class=\"sk-parallel\"><div class=\"sk-parallel-item\"><div class=\"sk-item\"><div class=\"sk-label-container\"><div class=\"sk-label sk-toggleable\"><input class=\"sk-toggleable__control sk-hidden--visually\" id=\"sk-estimator-id-44\" type=\"checkbox\" ><label for=\"sk-estimator-id-44\" class=\"sk-toggleable__label sk-toggleable__label-arrow\">estimator: GridSearchCV</label><div class=\"sk-toggleable__content\"><pre>GridSearchCV(cv=5, estimator=LinearSVC(), param_grid={&#x27;C&#x27;: [0.5, 1, 2, 5]})</pre></div></div></div><div class=\"sk-serial\"><div class=\"sk-item sk-dashed-wrapped\"><div class=\"sk-parallel\"><div class=\"sk-parallel-item\"><div class=\"sk-item\"><div class=\"sk-label-container\"><div class=\"sk-label sk-toggleable\"><input class=\"sk-toggleable__control sk-hidden--visually\" id=\"sk-estimator-id-45\" type=\"checkbox\" ><label for=\"sk-estimator-id-45\" class=\"sk-toggleable__label sk-toggleable__label-arrow\">estimator: LinearSVC</label><div class=\"sk-toggleable__content\"><pre>LinearSVC()</pre></div></div></div><div class=\"sk-serial\"><div class=\"sk-item\"><div class=\"sk-estimator sk-toggleable\"><input class=\"sk-toggleable__control sk-hidden--visually\" id=\"sk-estimator-id-46\" type=\"checkbox\" ><label for=\"sk-estimator-id-46\" class=\"sk-toggleable__label sk-toggleable__label-arrow\">LinearSVC</label><div class=\"sk-toggleable__content\"><pre>LinearSVC()</pre></div></div></div></div></div></div></div></div></div></div></div></div></div></div></div></div></div>"
      ],
      "text/plain": [
       "Pipeline(steps=[('tfidf', TfidfVectorizer()),\n",
       "                ('clf',\n",
       "                 OneVsRestClassifier(estimator=GridSearchCV(cv=5,\n",
       "                                                            estimator=LinearSVC(),\n",
       "                                                            param_grid={'C': [0.5,\n",
       "                                                                              1,\n",
       "                                                                              2,\n",
       "                                                                              5]}),\n",
       "                                     n_jobs=1))])"
      ]
     },
     "execution_count": 73,
     "metadata": {},
     "output_type": "execute_result"
    }
   ],
   "source": [
    "SVC_pipeline.fit(X_train, Y_train)"
   ]
  },
  {
   "cell_type": "code",
   "execution_count": 74,
   "id": "245f7357",
   "metadata": {},
   "outputs": [],
   "source": [
    "pred = SVC_pipeline.predict(X_test)"
   ]
  },
  {
   "cell_type": "code",
   "execution_count": 75,
   "id": "6559a2a0",
   "metadata": {},
   "outputs": [
    {
     "data": {
      "text/plain": [
       "0.22385235199414594"
      ]
     },
     "execution_count": 75,
     "metadata": {},
     "output_type": "execute_result"
    }
   ],
   "source": [
    "jaccard_score(Y_test, pred, average='macro')"
   ]
  },
  {
   "cell_type": "code",
   "execution_count": 76,
   "id": "bc4118bc",
   "metadata": {},
   "outputs": [],
   "source": [
    "resultats['linear_SVC'] = jaccard_score(Y_test, pred, average='macro')"
   ]
  },
  {
   "cell_type": "markdown",
   "id": "e8ac48d3",
   "metadata": {},
   "source": [
    "### Random Rorest"
   ]
  },
  {
   "cell_type": "markdown",
   "id": "a6a8cf09",
   "metadata": {},
   "source": [
    "Cet algorithme prend beaucoup de temps pour un mauvais résultat. On ne fait pas de validation croisée."
   ]
  },
  {
   "cell_type": "code",
   "execution_count": 77,
   "id": "a9cdc57a",
   "metadata": {},
   "outputs": [],
   "source": [
    "RFC_pipeline = Pipeline([\n",
    "                ('tfidf', TfidfVectorizer()),\n",
    "                ('clf', OneVsRestClassifier(RandomForestClassifier(n_estimators=500))),\n",
    "            ])"
   ]
  },
  {
   "cell_type": "code",
   "execution_count": 78,
   "id": "e7e4b6b9",
   "metadata": {},
   "outputs": [
    {
     "data": {
      "text/html": [
       "<style>#sk-container-id-9 {color: black;background-color: white;}#sk-container-id-9 pre{padding: 0;}#sk-container-id-9 div.sk-toggleable {background-color: white;}#sk-container-id-9 label.sk-toggleable__label {cursor: pointer;display: block;width: 100%;margin-bottom: 0;padding: 0.3em;box-sizing: border-box;text-align: center;}#sk-container-id-9 label.sk-toggleable__label-arrow:before {content: \"▸\";float: left;margin-right: 0.25em;color: #696969;}#sk-container-id-9 label.sk-toggleable__label-arrow:hover:before {color: black;}#sk-container-id-9 div.sk-estimator:hover label.sk-toggleable__label-arrow:before {color: black;}#sk-container-id-9 div.sk-toggleable__content {max-height: 0;max-width: 0;overflow: hidden;text-align: left;background-color: #f0f8ff;}#sk-container-id-9 div.sk-toggleable__content pre {margin: 0.2em;color: black;border-radius: 0.25em;background-color: #f0f8ff;}#sk-container-id-9 input.sk-toggleable__control:checked~div.sk-toggleable__content {max-height: 200px;max-width: 100%;overflow: auto;}#sk-container-id-9 input.sk-toggleable__control:checked~label.sk-toggleable__label-arrow:before {content: \"▾\";}#sk-container-id-9 div.sk-estimator input.sk-toggleable__control:checked~label.sk-toggleable__label {background-color: #d4ebff;}#sk-container-id-9 div.sk-label input.sk-toggleable__control:checked~label.sk-toggleable__label {background-color: #d4ebff;}#sk-container-id-9 input.sk-hidden--visually {border: 0;clip: rect(1px 1px 1px 1px);clip: rect(1px, 1px, 1px, 1px);height: 1px;margin: -1px;overflow: hidden;padding: 0;position: absolute;width: 1px;}#sk-container-id-9 div.sk-estimator {font-family: monospace;background-color: #f0f8ff;border: 1px dotted black;border-radius: 0.25em;box-sizing: border-box;margin-bottom: 0.5em;}#sk-container-id-9 div.sk-estimator:hover {background-color: #d4ebff;}#sk-container-id-9 div.sk-parallel-item::after {content: \"\";width: 100%;border-bottom: 1px solid gray;flex-grow: 1;}#sk-container-id-9 div.sk-label:hover label.sk-toggleable__label {background-color: #d4ebff;}#sk-container-id-9 div.sk-serial::before {content: \"\";position: absolute;border-left: 1px solid gray;box-sizing: border-box;top: 0;bottom: 0;left: 50%;z-index: 0;}#sk-container-id-9 div.sk-serial {display: flex;flex-direction: column;align-items: center;background-color: white;padding-right: 0.2em;padding-left: 0.2em;position: relative;}#sk-container-id-9 div.sk-item {position: relative;z-index: 1;}#sk-container-id-9 div.sk-parallel {display: flex;align-items: stretch;justify-content: center;background-color: white;position: relative;}#sk-container-id-9 div.sk-item::before, #sk-container-id-9 div.sk-parallel-item::before {content: \"\";position: absolute;border-left: 1px solid gray;box-sizing: border-box;top: 0;bottom: 0;left: 50%;z-index: -1;}#sk-container-id-9 div.sk-parallel-item {display: flex;flex-direction: column;z-index: 1;position: relative;background-color: white;}#sk-container-id-9 div.sk-parallel-item:first-child::after {align-self: flex-end;width: 50%;}#sk-container-id-9 div.sk-parallel-item:last-child::after {align-self: flex-start;width: 50%;}#sk-container-id-9 div.sk-parallel-item:only-child::after {width: 0;}#sk-container-id-9 div.sk-dashed-wrapped {border: 1px dashed gray;margin: 0 0.4em 0.5em 0.4em;box-sizing: border-box;padding-bottom: 0.4em;background-color: white;}#sk-container-id-9 div.sk-label label {font-family: monospace;font-weight: bold;display: inline-block;line-height: 1.2em;}#sk-container-id-9 div.sk-label-container {text-align: center;}#sk-container-id-9 div.sk-container {/* jupyter's `normalize.less` sets `[hidden] { display: none; }` but bootstrap.min.css set `[hidden] { display: none !important; }` so we also need the `!important` here to be able to override the default hidden behavior on the sphinx rendered scikit-learn.org. See: https://github.com/scikit-learn/scikit-learn/issues/21755 */display: inline-block !important;position: relative;}#sk-container-id-9 div.sk-text-repr-fallback {display: none;}</style><div id=\"sk-container-id-9\" class=\"sk-top-container\"><div class=\"sk-text-repr-fallback\"><pre>Pipeline(steps=[(&#x27;tfidf&#x27;, TfidfVectorizer()),\n",
       "                (&#x27;clf&#x27;,\n",
       "                 OneVsRestClassifier(estimator=RandomForestClassifier(n_estimators=500)))])</pre><b>In a Jupyter environment, please rerun this cell to show the HTML representation or trust the notebook. <br />On GitHub, the HTML representation is unable to render, please try loading this page with nbviewer.org.</b></div><div class=\"sk-container\" hidden><div class=\"sk-item sk-dashed-wrapped\"><div class=\"sk-label-container\"><div class=\"sk-label sk-toggleable\"><input class=\"sk-toggleable__control sk-hidden--visually\" id=\"sk-estimator-id-47\" type=\"checkbox\" ><label for=\"sk-estimator-id-47\" class=\"sk-toggleable__label sk-toggleable__label-arrow\">Pipeline</label><div class=\"sk-toggleable__content\"><pre>Pipeline(steps=[(&#x27;tfidf&#x27;, TfidfVectorizer()),\n",
       "                (&#x27;clf&#x27;,\n",
       "                 OneVsRestClassifier(estimator=RandomForestClassifier(n_estimators=500)))])</pre></div></div></div><div class=\"sk-serial\"><div class=\"sk-item\"><div class=\"sk-estimator sk-toggleable\"><input class=\"sk-toggleable__control sk-hidden--visually\" id=\"sk-estimator-id-48\" type=\"checkbox\" ><label for=\"sk-estimator-id-48\" class=\"sk-toggleable__label sk-toggleable__label-arrow\">TfidfVectorizer</label><div class=\"sk-toggleable__content\"><pre>TfidfVectorizer()</pre></div></div></div><div class=\"sk-item sk-dashed-wrapped\"><div class=\"sk-label-container\"><div class=\"sk-label sk-toggleable\"><input class=\"sk-toggleable__control sk-hidden--visually\" id=\"sk-estimator-id-49\" type=\"checkbox\" ><label for=\"sk-estimator-id-49\" class=\"sk-toggleable__label sk-toggleable__label-arrow\">clf: OneVsRestClassifier</label><div class=\"sk-toggleable__content\"><pre>OneVsRestClassifier(estimator=RandomForestClassifier(n_estimators=500))</pre></div></div></div><div class=\"sk-parallel\"><div class=\"sk-parallel-item\"><div class=\"sk-item\"><div class=\"sk-label-container\"><div class=\"sk-label sk-toggleable\"><input class=\"sk-toggleable__control sk-hidden--visually\" id=\"sk-estimator-id-50\" type=\"checkbox\" ><label for=\"sk-estimator-id-50\" class=\"sk-toggleable__label sk-toggleable__label-arrow\">estimator: RandomForestClassifier</label><div class=\"sk-toggleable__content\"><pre>RandomForestClassifier(n_estimators=500)</pre></div></div></div><div class=\"sk-serial\"><div class=\"sk-item\"><div class=\"sk-estimator sk-toggleable\"><input class=\"sk-toggleable__control sk-hidden--visually\" id=\"sk-estimator-id-51\" type=\"checkbox\" ><label for=\"sk-estimator-id-51\" class=\"sk-toggleable__label sk-toggleable__label-arrow\">RandomForestClassifier</label><div class=\"sk-toggleable__content\"><pre>RandomForestClassifier(n_estimators=500)</pre></div></div></div></div></div></div></div></div></div></div></div></div>"
      ],
      "text/plain": [
       "Pipeline(steps=[('tfidf', TfidfVectorizer()),\n",
       "                ('clf',\n",
       "                 OneVsRestClassifier(estimator=RandomForestClassifier(n_estimators=500)))])"
      ]
     },
     "execution_count": 78,
     "metadata": {},
     "output_type": "execute_result"
    }
   ],
   "source": [
    "RFC_pipeline.fit(X_train, Y_train)"
   ]
  },
  {
   "cell_type": "code",
   "execution_count": 79,
   "id": "f577419e",
   "metadata": {},
   "outputs": [],
   "source": [
    "RFC_pred = RFC_pipeline.predict(X_test)"
   ]
  },
  {
   "cell_type": "code",
   "execution_count": 80,
   "id": "5b97323a",
   "metadata": {},
   "outputs": [
    {
     "data": {
      "text/plain": [
       "0.07586832832979386"
      ]
     },
     "execution_count": 80,
     "metadata": {},
     "output_type": "execute_result"
    }
   ],
   "source": [
    "jaccard_score(Y_test, RFC_pred, average='macro')"
   ]
  },
  {
   "cell_type": "code",
   "execution_count": 81,
   "id": "de072159",
   "metadata": {},
   "outputs": [],
   "source": [
    "resultats['random_fores'] = jaccard_score(Y_test, RFC_pred, average='macro')"
   ]
  },
  {
   "cell_type": "markdown",
   "id": "9fe6fe6f",
   "metadata": {},
   "source": [
    "## AdaBoost"
   ]
  },
  {
   "cell_type": "code",
   "execution_count": 82,
   "id": "20407e03",
   "metadata": {},
   "outputs": [
    {
     "data": {
      "text/plain": [
       "0.23645690060286143"
      ]
     },
     "execution_count": 82,
     "metadata": {},
     "output_type": "execute_result"
    }
   ],
   "source": [
    "pipeline = Pipeline([\n",
    "                ('tfidf', TfidfVectorizer()),\n",
    "                ('clf', OneVsRestClassifier(AdaBoostClassifier(n_estimators=100, learning_rate=1), n_jobs=1)),\n",
    "            ])\n",
    "\n",
    "pipeline.fit(X_train, Y_train)\n",
    "\n",
    "pred = pipeline.predict(X_test)\n",
    "jaccard_score(Y_test, pred, average='macro')"
   ]
  },
  {
   "cell_type": "code",
   "execution_count": 83,
   "id": "b88070ab",
   "metadata": {},
   "outputs": [],
   "source": [
    "resultats['AdaBoost'] = jaccard_score(Y_test, pred, average='macro')"
   ]
  },
  {
   "cell_type": "code",
   "execution_count": 84,
   "id": "e9b7f3ad",
   "metadata": {},
   "outputs": [
    {
     "data": {
      "text/plain": [
       "{'Multinomial': 0.03728035806568358,\n",
       " 'linear_SVC': 0.22385235199414594,\n",
       " 'random_fores': 0.07586832832979386,\n",
       " 'AdaBoost': 0.23645690060286143}"
      ]
     },
     "execution_count": 84,
     "metadata": {},
     "output_type": "execute_result"
    }
   ],
   "source": [
    "resultats"
   ]
  },
  {
   "cell_type": "markdown",
   "id": "9c0a2dd9",
   "metadata": {},
   "source": [
    "# SVC avec d'autre jeux de données"
   ]
  },
  {
   "cell_type": "markdown",
   "id": "f2ba131f",
   "metadata": {},
   "source": [
    "#### title_bow_lem"
   ]
  },
  {
   "cell_type": "code",
   "execution_count": 85,
   "id": "c716ac3d",
   "metadata": {},
   "outputs": [],
   "source": [
    "X = data['title_bow_lem'].apply(lambda x: ' '.join(x))"
   ]
  },
  {
   "cell_type": "code",
   "execution_count": 87,
   "id": "857516f4",
   "metadata": {},
   "outputs": [],
   "source": [
    "X_train, X_test, Y_train, Y_test = train_test_split(X, y, random_state=21, train_size=0.8)"
   ]
  },
  {
   "cell_type": "code",
   "execution_count": 88,
   "id": "f7c8a84f",
   "metadata": {},
   "outputs": [],
   "source": [
    "# grille d'hyperparamètres\n",
    "param_grid = {'C': [0.5, 1, 2, 5]}\n",
    "\n",
    "# initialiser la validation croisée\n",
    "grid_pred = GridSearchCV(\n",
    "        LinearSVC(),\n",
    "        param_grid,\n",
    "        cv=5)"
   ]
  },
  {
   "cell_type": "code",
   "execution_count": 89,
   "id": "bd5ea29b",
   "metadata": {},
   "outputs": [],
   "source": [
    "SVC_pipeline = Pipeline([\n",
    "                ('tfidf', TfidfVectorizer()),\n",
    "                ('clf', OneVsRestClassifier(grid_pred, n_jobs=1)),\n",
    "            ])\n",
    "\n",
    "SVC_pipeline.fit(X_train, Y_train)\n",
    "\n",
    "pred = SVC_pipeline.predict(X_test)"
   ]
  },
  {
   "cell_type": "code",
   "execution_count": 90,
   "id": "0d2ac093",
   "metadata": {},
   "outputs": [
    {
     "data": {
      "text/plain": [
       "0.297359637079227"
      ]
     },
     "execution_count": 90,
     "metadata": {},
     "output_type": "execute_result"
    }
   ],
   "source": [
    "jaccard_score(Y_test, pred, average='macro')"
   ]
  },
  {
   "cell_type": "markdown",
   "id": "4c25d072",
   "metadata": {},
   "source": [
    "#### title_bow_stem"
   ]
  },
  {
   "cell_type": "code",
   "execution_count": 91,
   "id": "b769704b",
   "metadata": {},
   "outputs": [],
   "source": [
    "X = data['title_bow_stem'].apply(lambda x: ' '.join(x))"
   ]
  },
  {
   "cell_type": "code",
   "execution_count": 92,
   "id": "52a1ca37",
   "metadata": {},
   "outputs": [],
   "source": [
    "X_train, X_test, Y_train, Y_test = train_test_split(X, y, random_state=21, train_size=0.8)"
   ]
  },
  {
   "cell_type": "code",
   "execution_count": 93,
   "id": "d3cf46a9",
   "metadata": {},
   "outputs": [],
   "source": [
    "# grille d'hyperparamètres\n",
    "param_grid = {'C': [0.5, 1, 2, 5]}\n",
    "\n",
    "# initialiser la validation croisée\n",
    "grid_pred = GridSearchCV(\n",
    "        LinearSVC(),\n",
    "        param_grid,\n",
    "        cv=5)"
   ]
  },
  {
   "cell_type": "code",
   "execution_count": 94,
   "id": "83178bf0",
   "metadata": {},
   "outputs": [],
   "source": [
    "SVC_pipeline = Pipeline([\n",
    "                ('tfidf', TfidfVectorizer()),\n",
    "                ('clf', OneVsRestClassifier(grid_pred, n_jobs=1)),\n",
    "            ])\n",
    "\n",
    "SVC_pipeline.fit(X_train, Y_train)\n",
    "\n",
    "pred = SVC_pipeline.predict(X_test)"
   ]
  },
  {
   "cell_type": "code",
   "execution_count": 95,
   "id": "b436231a",
   "metadata": {},
   "outputs": [
    {
     "data": {
      "text/plain": [
       "0.299532432559541"
      ]
     },
     "execution_count": 95,
     "metadata": {},
     "output_type": "execute_result"
    }
   ],
   "source": [
    "jaccard_score(Y_test, pred, average='macro')"
   ]
  },
  {
   "cell_type": "markdown",
   "id": "eea0c795",
   "metadata": {},
   "source": [
    "#### body_bow_stem"
   ]
  },
  {
   "cell_type": "code",
   "execution_count": 96,
   "id": "d09d9c5e",
   "metadata": {},
   "outputs": [],
   "source": [
    "X = data['body_bow_stem'].apply(lambda x: ' '.join(x))"
   ]
  },
  {
   "cell_type": "code",
   "execution_count": 97,
   "id": "c04cc1fe",
   "metadata": {},
   "outputs": [],
   "source": [
    "X_train, X_test, Y_train, Y_test = train_test_split(X, y, random_state=21, train_size=0.8)"
   ]
  },
  {
   "cell_type": "code",
   "execution_count": 98,
   "id": "9f35383d",
   "metadata": {},
   "outputs": [],
   "source": [
    "# grille d'hyperparamètres\n",
    "param_grid = {'C': [0.5, 1, 2, 5]}\n",
    "\n",
    "# initialiser la validation croisée\n",
    "grid_pred = GridSearchCV(\n",
    "        LinearSVC(),\n",
    "        param_grid,\n",
    "        cv=5)"
   ]
  },
  {
   "cell_type": "code",
   "execution_count": 99,
   "id": "b7c62dee",
   "metadata": {},
   "outputs": [],
   "source": [
    "SVC_pipeline = Pipeline([\n",
    "                ('tfidf', TfidfVectorizer()),\n",
    "                ('clf', OneVsRestClassifier(grid_pred, n_jobs=1)),\n",
    "            ])\n",
    "\n",
    "SVC_pipeline.fit(X_train, Y_train)\n",
    "\n",
    "pred = SVC_pipeline.predict(X_test)"
   ]
  },
  {
   "cell_type": "code",
   "execution_count": 100,
   "id": "5358889b",
   "metadata": {},
   "outputs": [
    {
     "data": {
      "text/plain": [
       "0.3036130801282816"
      ]
     },
     "execution_count": 100,
     "metadata": {},
     "output_type": "execute_result"
    }
   ],
   "source": [
    "jaccard_score(Y_test, pred, average='macro')"
   ]
  },
  {
   "cell_type": "markdown",
   "id": "131540b5",
   "metadata": {},
   "source": [
    "#### body_bow_lem"
   ]
  },
  {
   "cell_type": "code",
   "execution_count": 101,
   "id": "fd3ae5a8",
   "metadata": {},
   "outputs": [],
   "source": [
    "X = data['body_bow_lem'].apply(lambda x: ' '.join(x))\n",
    "\n",
    "X_train, X_test, Y_train, Y_test = train_test_split(X, y, random_state=21, train_size=0.8)"
   ]
  },
  {
   "cell_type": "code",
   "execution_count": 102,
   "id": "4d37c011",
   "metadata": {},
   "outputs": [],
   "source": [
    "pipeline = Pipeline([\n",
    "                ('tfidf', TfidfVectorizer()),\n",
    "                ('clf', OneVsRestClassifier(LinearSVC(), n_jobs=1)),\n",
    "            ])\n",
    "\n",
    "pipeline.fit(X_train, Y_train)\n",
    "\n",
    "pred = pipeline.predict(X_test)"
   ]
  },
  {
   "cell_type": "code",
   "execution_count": 103,
   "id": "8b5d3757",
   "metadata": {},
   "outputs": [
    {
     "data": {
      "text/plain": [
       "0.31131648344742585"
      ]
     },
     "execution_count": 103,
     "metadata": {},
     "output_type": "execute_result"
    }
   ],
   "source": [
    "jaccard_score(Y_test, pred, average='macro')"
   ]
  }
 ],
 "metadata": {
  "kernelspec": {
   "display_name": "Python 3 (ipykernel)",
   "language": "python",
   "name": "python3"
  },
  "language_info": {
   "codemirror_mode": {
    "name": "ipython",
    "version": 3
   },
   "file_extension": ".py",
   "mimetype": "text/x-python",
   "name": "python",
   "nbconvert_exporter": "python",
   "pygments_lexer": "ipython3",
   "version": "3.9.12"
  }
 },
 "nbformat": 4,
 "nbformat_minor": 5
}
